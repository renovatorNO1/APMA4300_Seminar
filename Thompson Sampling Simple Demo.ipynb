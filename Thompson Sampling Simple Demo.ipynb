{
 "cells": [
  {
   "cell_type": "code",
   "execution_count": 1,
   "metadata": {
    "collapsed": false
   },
   "outputs": [
    {
     "name": "stdout",
     "output_type": "stream",
     "text": [
      "Begin Thompson demo \n",
      "hyperparameters are [[1 1]\n",
      " [1 1]\n",
      " [1 1]]\n",
      "posterior rounds are [    0 19999 39999 59999 79999 99999]\n"
     ]
    }
   ],
   "source": [
    "# thompson.py\n",
    "\n",
    "from scipy.stats import beta\n",
    "import numpy as np\n",
    "from scipy.stats import bernoulli\n",
    "from scipy.stats import norm\n",
    "\n",
    "print(\"Begin Thompson demo \")\n",
    "\n",
    "################################## Initiate Parameters for the scripts ##################################\n",
    "# initialize distributions\n",
    "prob_model = 0 # 0 for bernoulli, 1 for gaussian\n",
    "#global prior_distribution, rewards_distribution, true_prob\n",
    "\n",
    "def initial_condition(prob_model):\n",
    "    global prior_distribution, rewards_distribution, true_prob\n",
    "    if prob_model == 0:\n",
    "        prior_distribution = beta #norm\n",
    "        rewards_distribution = bernoulli #norm\n",
    "    else:\n",
    "        prior_distribution = norm\n",
    "        rewards_distribution = norm\n",
    "\n",
    "    # actual probabilities of different arms\n",
    "    #true_prob = np.array([])\n",
    "    if rewards_distribution == bernoulli:\n",
    "        true_prob = np.array([0.2, 0.6, 0.5])\n",
    "\n",
    "    elif rewards_distribution == norm:\n",
    "        true_prob = np.array([[0.3,10],[0.5,10], [0.6,10]])\n",
    "\n",
    "# How many rounds to play equivalent to Time horizon.\n",
    "rounds = 100000\n",
    "\n",
    "# number of posterior plots\n",
    "plot_row = 3\n",
    "plot_col = 2\n",
    "\n",
    "# number of parameters required by prior distribution\n",
    "parameters_num = 2\n",
    "\n",
    "initial_condition(prob_model)\n",
    "################################################# scripts started ######################################\n",
    "# total number of plots about beta distributions \n",
    "plot_num = plot_row * plot_col\n",
    "\n",
    "# number of arms\n",
    "size = len(true_prob)\n",
    "\n",
    "# rewards\n",
    "rewards = np.zeros(rounds)\n",
    "rewards_per_round = np.zeros((size,rounds), dtype=float)\n",
    "\n",
    "# cumulative rewards\n",
    "cumulative_rewards = np.zeros(rounds)\n",
    "\n",
    "# Initiate Priors\n",
    "if rewards_distribution == bernoulli:\n",
    "    hyperparameters = np.ones((size,parameters_num), dtype=int) #index 0 is alpha and index 1 is beta\n",
    "elif rewards_distribution == norm:\n",
    "    hyperparameters = np.full((size,2), [0,1]) #index 0 is mean and index 2 is variance\n",
    "\n",
    "print(\"hyperparameters are\", hyperparameters)\n",
    "hyperparameters_records = np.empty((plot_num, size, parameters_num), dtype=float)\n",
    "\n",
    "# The folloinwg represents the rounds we select to plot poster distributions\n",
    "posterior_rounds = np.linspace(0, rounds-1, plot_num).astype(int)\n",
    "print(\"posterior rounds are\", posterior_rounds)\n",
    "\n",
    "# Initiate regrets\n",
    "regret_per_round = np.zeros(rounds) \n",
    "cumulated_regrets = np.zeros(rounds)\n",
    "\n",
    "# Initialize the expected value of each arm with posteriors from the previous round\n",
    "thetas = np.ones(size, dtype = float) \n",
    "\n",
    "# Initialize record for best_arm\n",
    "best_arm = np.zeros(rounds,dtype = int)\n",
    "\n",
    "##################################### Complementary Functions ########################################\n",
    "\n",
    "# Thompson sampling     \n",
    "def sampling(size, t):\n",
    "    global thetas   \n",
    "    thetas = prior_distribution.rvs(hyperparameters[:,0], hyperparameters[:,1])\n",
    "    \n",
    "\n",
    "    \n",
    "# # sampling_records represnet the entire records to thetas for arms\n",
    "# single_record = np.empty(rounds, dtype = float)\n",
    "# sampling_records = np.full((size,rounds), single_record)\n",
    "\n",
    "# # record the expected \n",
    "# def record_thetas(lines, thetas, size, column):\n",
    "#     lines[:, column] = thetas\n",
    "\n",
    "def record_rewards(t, chosen_arm, reward):\n",
    "    # update rewards and rewards_per_round\n",
    "    rewards[t] = reward\n",
    "    #print(reward)\n",
    "    rewards_per_round[chosen_arm, t] = reward\n",
    "    #print(reward)\n",
    "    \n",
    "    #update cumulative rewards\n",
    "    if t > 0:\n",
    "        cumulative_rewards[t] = reward + cumulative_rewards[t-1] \n",
    "    else:\n",
    "        cumulative_rewards[t] = reward\n",
    "        \n",
    "    #register_regret(chosen_arm, t)\n",
    "    \n",
    "# Get the expected reward of the chosen arm\n",
    "def get_expected_reward(chosen, t): \n",
    "    # this obtains the empirical expected rewards\n",
    "    # sum the rewards up to round t-1, including round 0. t represents the current round\n",
    "    if t:\n",
    "        return np.sum(rewards_per_round[chosen][:t])/t\n",
    "    return 0\n",
    "\n",
    "# Register the regret\n",
    "def register_regret(chosen,t):\n",
    "    # Calculate regrets\n",
    "    if rewards_distribution == bernoulli:\n",
    "        regret =  max(true_prob) - get_expected_reward(chosen,t)\n",
    "        \n",
    "        regret_per_round[t] = regret\n",
    "    else:\n",
    "        best_reward = max(true_prob[:,0])\n",
    "        #print(best_reward)\n",
    "        regret = best_reward - get_expected_reward(chosen,t)\n",
    "        #print(chosen)\n",
    "        #print(get_expected_reward(chosen,t))\n",
    "        regret_per_round[t] = regret\n",
    "        \n",
    "    if t > 0:\n",
    "        cumulated_regrets[t] = regret + cumulated_regrets[t-1] \n",
    "    else:\n",
    "        cumulated_regrets[t] = regret\n",
    "\n",
    "\n",
    "# Record posteriors\n",
    "def record_posteriors(round_num, hyperparameters):\n",
    "    \n",
    "    if round_num in posterior_rounds:\n",
    "        index = np.where(posterior_rounds==round_num)\n",
    "        hyperparameters_records[index[0]] = hyperparameters\n",
    "        #print(1)\n",
    "    #np.append(posteriors_records, np.full((1,size,prior_parameters_num),posteriors, dtype=int), axis=0)\n",
    "\n",
    "    \n",
    "def update_posteriors(t, reward, chosen_arm):\n",
    "    # Update distribution parameters alpha and beta for each arm\n",
    "    if rewards_distribution == bernoulli:\n",
    "        if reward:\n",
    "            hyperparameters[chosen_arm][0] += 1\n",
    "        else:\n",
    "            hyperparameters[chosen_arm][1] += 1\n",
    "    else:\n",
    "        \n",
    "        cur_mean = hyperparameters[chosen_arm][0]\n",
    "        cur_variance = hyperparameters[chosen_arm][1]\n",
    "        data_point = reward\n",
    "        true_variance = true_prob[chosen_arm][1]\n",
    "        \n",
    "        hyperparameters[chosen_arm][0] = (cur_variance * data_point + true_variance * cur_mean )/ (cur_variance + true_variance)\n",
    "        hyperparameters[chosen_arm][1] = 1/(1/cur_variance + 1/true_variance) #cur_variance * prior_variance /(cur_variance + prior_variance)\n",
    "        #print(cur_variance)\n",
    "            \n",
    "def stats():\n",
    "    # return the mean and the variance of regrets per realization\n",
    "    return (regret_per_round.mean(), regret_per_round.var())\n",
    "\n",
    "def start():\n",
    "    for i in range(rounds):\n",
    "\n",
    "        # Delayed Rewards\n",
    "        if (i % 10 == 0):\n",
    "            # call function by its use\n",
    "            sampling(size, i)\n",
    "\n",
    "            #record_thetas(lines, thetas, size, i)\n",
    "            chosen_arm = thetas.argmax()\n",
    "            best_arm[i] = chosen_arm\n",
    "            # by choosing the best theta, determine the best arm\n",
    "        else:\n",
    "            chosen_arm = best_arm[i-1]\n",
    "            best_arm[i] = chosen_arm\n",
    "            \n",
    "        # Immediate Rewards:\n",
    "        #sampling(size, i)\n",
    "\n",
    "        #record_thetas(lines, thetas, size, i)\n",
    "        chosen_arm = thetas.argmax()\n",
    "        best_arm[i] = chosen_arm\n",
    "        \n",
    "        # apply this arm and observe the rewards. # question: do we use the calculauted result from above \n",
    "        #or need to apply the arm again\n",
    "        if rewards_distribution == bernoulli:\n",
    "            r = rewards_distribution.rvs(p = true_prob[best_arm[i]])\n",
    "            \n",
    "        else:\n",
    "            params = true_prob[chosen_arm]\n",
    "            r = rewards_distribution.rvs(params[0], params[1])\n",
    "\n",
    "        record_rewards(i, chosen_arm, r)\n",
    "\n",
    "        register_regret(chosen_arm, i)\n",
    "\n",
    "        update_posteriors(i, r,chosen_arm)\n",
    "\n",
    "        record_posteriors(i, hyperparameters)\n",
    "    \n",
    "start()\n",
    "\n",
    "#\n",
    "    \n",
    "#intermediate_priors = np.array(intermediate_priors)\n",
    "#print(posteriors_records)\n"
   ]
  },
  {
   "cell_type": "code",
   "execution_count": 2,
   "metadata": {
    "collapsed": false
   },
   "outputs": [
    {
     "data": {
      "text/plain": [
       "array([2])"
      ]
     },
     "execution_count": 2,
     "metadata": {},
     "output_type": "execute_result"
    }
   ],
   "source": [
    "from scipy.stats import randint\n",
    "p1 = randint(1,3)\n",
    "p1.rvs(1)"
   ]
  },
  {
   "cell_type": "code",
   "execution_count": 2,
   "metadata": {
    "collapsed": false
   },
   "outputs": [
    {
     "data": {
      "image/png": "[encoded data removed]",
      "text/plain": [
       "<matplotlib.figure.Figure at 0x2121bcaf7b8>"
      ]
     },
     "metadata": {},
     "output_type": "display_data"
    }
   ],
   "source": [
    "import matplotlib as mpl\n",
    "import matplotlib.pyplot as plt\n",
    "%matplotlib inline\n",
    "\n",
    "mpl.rcParams['savefig.dpi'] = 80 # size parameter for inline\n",
    "mpl.rcParams['figure.dpi'] = 100 # size parameter for notebook\n",
    "x_axis = range(rounds)\n",
    "\n",
    "def plot_arms(best_arm):\n",
    "    fig = plt.figure()\n",
    "    line_1, = plt.plot(x_axis, best_arm, label='index')\n",
    "    plt.ylabel('best action arm index')\n",
    "    plt.xlabel('t')\n",
    "    plt.legend(loc=\"lower right\",handles=[line_1])\n",
    "    fig.suptitle(\"played arm per round\")\n",
    "    fig.savefig('test.jpg')\n",
    "    plt.show()\n",
    "\n",
    "plot_arms(best_arm)"
   ]
  },
  {
   "cell_type": "code",
   "execution_count": 3,
   "metadata": {
    "collapsed": false
   },
   "outputs": [
    {
     "name": "stderr",
     "output_type": "stream",
     "text": [
      "C:\\Users\\lucas\\Anaconda3\\lib\\site-packages\\matplotlib\\axes\\_axes.py:532: UserWarning: The handle <matplotlib.lines.Line2D object at 0x000002121FF56358> has a label of '_line0' which cannot be automatically added to the legend.\n",
      "  'legend.'.format(handle, label))\n"
     ]
    },
    {
     "data": {
      "image/png": "[encoded data removed]",
      "text/plain": [
       "<matplotlib.figure.Figure at 0x2121bfcdb38>"
      ]
     },
     "metadata": {},
     "output_type": "display_data"
    }
   ],
   "source": [
    "def plot_rewards(rewards):\n",
    "    fig = plt.figure()\n",
    "    line_1, = plt.plot(x_axis[:100], rewards[:100], 'bo')\n",
    "    #print(rewards)\n",
    "    plt.ylabel('reward per round')\n",
    "    plt.xlabel('t')\n",
    "    plt.legend(handles=[line_1])\n",
    "    fig.suptitle(\"Rewards per round\")\n",
    "    fig.savefig('test.jpg')\n",
    "    plt.show()\n",
    "    \n",
    "plot_rewards(rewards)"
   ]
  },
  {
   "cell_type": "code",
   "execution_count": 4,
   "metadata": {
    "collapsed": false
   },
   "outputs": [
    {
     "name": "stderr",
     "output_type": "stream",
     "text": [
      "C:\\Users\\lucas\\Anaconda3\\lib\\site-packages\\matplotlib\\axes\\_axes.py:532: UserWarning: The handle <matplotlib.lines.Line2D object at 0x0000021220059CF8> has a label of '_line0' which cannot be automatically added to the legend.\n",
      "  'legend.'.format(handle, label))\n"
     ]
    },
    {
     "data": {
      "image/png": "[encoded data removed]",
      "text/plain": [
       "<matplotlib.figure.Figure at 0x2121bfadf60>"
      ]
     },
     "metadata": {},
     "output_type": "display_data"
    }
   ],
   "source": [
    "def plot_cumulative_rewards(cumulative_rewards):\n",
    "    fig = plt.figure()\n",
    "    line_1, = plt.plot(x_axis, cumulative_rewards, 'bo')\n",
    "\n",
    "    plt.ylabel('cumulative_reward')\n",
    "    plt.xlabel('t')\n",
    "    plt.legend(handles=[line_1])\n",
    "    fig.suptitle(\"cumulative_rewards per round\")\n",
    "    fig.savefig('test.jpg')\n",
    "    plt.show()\n",
    "    \n",
    "plot_cumulative_rewards(cumulative_rewards)"
   ]
  },
  {
   "cell_type": "code",
   "execution_count": 5,
   "metadata": {
    "collapsed": false
   },
   "outputs": [
    {
     "name": "stderr",
     "output_type": "stream",
     "text": [
      "C:\\Users\\lucas\\Anaconda3\\lib\\site-packages\\matplotlib\\axes\\_axes.py:532: UserWarning: The handle <matplotlib.lines.Line2D object at 0x0000021220257908> has a label of '_line0' which cannot be automatically added to the legend.\n",
      "  'legend.'.format(handle, label))\n"
     ]
    },
    {
     "data": {
      "image/png": "[encoded data removed]",
      "text/plain": [
       "<matplotlib.figure.Figure at 0x2122006b320>"
      ]
     },
     "metadata": {},
     "output_type": "display_data"
    }
   ],
   "source": [
    "def plot_cumulated_regrets(cumulated_regrets):\n",
    "    fig = plt.figure()\n",
    "    line_1, = plt.plot(x_axis,cumulated_regrets)\n",
    "\n",
    "    plt.ylabel('cumulated_regret')\n",
    "    plt.xlabel('t')\n",
    "    plt.legend(handles=[line_1])\n",
    "    fig.suptitle(\"cumulated_regrets per round\")\n",
    "    fig.savefig('test.jpg')\n",
    "    plt.show()\n",
    "    \n",
    "plot_cumulated_regrets(cumulated_regrets)"
   ]
  },
  {
   "cell_type": "code",
   "execution_count": 22,
   "metadata": {
    "collapsed": false
   },
   "outputs": [
    {
     "name": "stdout",
     "output_type": "stream",
     "text": [
      "hyperparameters are [[1 1]\n",
      " [1 1]\n",
      " [1 1]]\n",
      "posterior rounds are [  0 199 399 599 799 999]\n",
      "hyperparameters are [[1 1]\n",
      " [1 1]\n",
      " [1 1]]\n",
      "posterior rounds are [   0  399  799 1199 1599 1999]\n",
      "hyperparameters are [[1 1]\n",
      " [1 1]\n",
      " [1 1]]\n",
      "posterior rounds are [   0  799 1599 2399 3199 3999]\n",
      "hyperparameters are [[1 1]\n",
      " [1 1]\n",
      " [1 1]]\n",
      "posterior rounds are [   0 1599 3199 4799 6399 7999]\n",
      "hyperparameters are [[1 1]\n",
      " [1 1]\n",
      " [1 1]]\n",
      "posterior rounds are [    0  3199  6399  9599 12799 15999]\n",
      "hyperparameters are [[1 1]\n",
      " [1 1]\n",
      " [1 1]]\n",
      "posterior rounds are [    0  6399 12799 19199 25599 31999]\n",
      "[ 0.01854613  0.01082112  0.00972421  0.01059934  0.0038737   0.00380615]\n"
     ]
    }
   ],
   "source": [
    "# Get variance\n",
    "\n",
    "trials = 10\n",
    "trial_rounds = [1000 * 2 ** i for i in range(6)]\n",
    "regret_variance = np.zeros(len(trial_rounds))\n",
    "for (index, rounds) in enumerate(trial_rounds):\n",
    "    #regrets = np.zeros(trials)\n",
    " \n",
    "    # How many rounds to play equivalent to Time horizon.\n",
    "\n",
    "    # number of parameters required by prior distribution\n",
    "    parameters_num = 2\n",
    "\n",
    "    initial_condition(prob_model=0)\n",
    "    ################################################# scripts started ######################################\n",
    "    # total number of plots about beta distributions \n",
    "    plot_num = plot_row * plot_col\n",
    "\n",
    "    # number of arms\n",
    "    size = len(true_prob)\n",
    "\n",
    "    # rewards\n",
    "    rewards = np.zeros(rounds)\n",
    "    rewards_per_round = np.zeros((size,rounds), dtype=float)\n",
    "\n",
    "    # cumulative rewards\n",
    "    cumulative_rewards = np.zeros(rounds)\n",
    "\n",
    "    # Initiate Priors\n",
    "    if rewards_distribution == bernoulli:\n",
    "        hyperparameters = np.ones((size,parameters_num), dtype=int) #index 0 is alpha and index 1 is beta\n",
    "    elif rewards_distribution == norm:\n",
    "        hyperparameters = np.full((size,2), [0,1]) #index 0 is mean and index 2 is variance\n",
    "\n",
    "    print(\"hyperparameters are\", hyperparameters)\n",
    "    hyperparameters_records = np.empty((plot_num, size, parameters_num), dtype=float)\n",
    "\n",
    "    # The folloinwg represents the rounds we select to plot poster distributions\n",
    "    posterior_rounds = np.linspace(0, rounds-1, plot_num).astype(int)\n",
    "    print(\"posterior rounds are\", posterior_rounds)\n",
    "\n",
    "    # Initiate regrets\n",
    "    regret_per_round = np.zeros(rounds) \n",
    "    cumulated_regrets = np.zeros(rounds)\n",
    "\n",
    "    # Initialize the expected value of each arm with posteriors from the previous round\n",
    "    thetas = np.ones(size, dtype = float) \n",
    "\n",
    "    # Initialize record for best_arm\n",
    "    best_arm = np.zeros(rounds,dtype = int)\n",
    "\n",
    "    for i in range(rounds):\n",
    "\n",
    "        # Delayed Rewards\n",
    "        if (i % 10 == 0):\n",
    "            # call function by its use\n",
    "            sampling(size, i)\n",
    "\n",
    "            #record_thetas(lines, thetas, size, i)\n",
    "            chosen_arm = thetas.argmax()\n",
    "            best_arm[i] = chosen_arm\n",
    "            # by choosing the best theta, determine the best arm\n",
    "        else:\n",
    "            chosen_arm = best_arm[i-1]\n",
    "            best_arm[i] = chosen_arm\n",
    "\n",
    "        # Immediate Rewards:\n",
    "        #sampling(size, i)\n",
    "\n",
    "        #record_thetas(lines, thetas, size, i)\n",
    "        chosen_arm = thetas.argmax()\n",
    "        best_arm[i] = chosen_arm\n",
    "\n",
    "        # apply this arm and observe the rewards. # question: do we use the calculauted result from above \n",
    "        #or need to apply the arm again\n",
    "        if rewards_distribution == bernoulli:\n",
    "            r = rewards_distribution.rvs(p = true_prob[best_arm[i]])\n",
    "\n",
    "        else:\n",
    "            params = true_prob[chosen_arm]\n",
    "            r = rewards_distribution.rvs(params[0], params[1])\n",
    "\n",
    "        record_rewards(i, chosen_arm, r)\n",
    "\n",
    "        register_regret(chosen_arm, i)\n",
    "\n",
    "        update_posteriors(i, r,chosen_arm)\n",
    "\n",
    "        record_posteriors(i, hyperparameters)\n",
    "            \n",
    "        regrets[t] = cumulated_regrets[-1]\n",
    "    \n",
    "    #print(regrets)\n",
    "    regret_variance[index] = np.var(regret_per_round)\n",
    "\n",
    "    \n",
    "print(regret_variance)    "
   ]
  },
  {
   "cell_type": "code",
   "execution_count": 21,
   "metadata": {
    "collapsed": false
   },
   "outputs": [
    {
     "name": "stderr",
     "output_type": "stream",
     "text": [
      "C:\\Users\\lucas\\Anaconda3\\lib\\site-packages\\matplotlib\\axes\\_axes.py:532: UserWarning: The handle <matplotlib.lines.Line2D object at 0x0000029712D65A20> has a label of '_line0' which cannot be automatically added to the legend.\n",
      "  'legend.'.format(handle, label))\n"
     ]
    },
    {
     "data": {
      "image/png": "[encoded data removed]",
      "text/plain": [
       "<matplotlib.figure.Figure at 0x2971327d9e8>"
      ]
     },
     "metadata": {},
     "output_type": "display_data"
    }
   ],
   "source": [
    "import matplotlib as mpl\n",
    "import matplotlib.pyplot as plt\n",
    "%matplotlib inline\n",
    "def plot_regrets_variance(regrets_variance):\n",
    "    fig = plt.figure()\n",
    "    x_axis = trial_rounds\n",
    "    line_1, = plt.plot(x_axis,regrets_variance)\n",
    "\n",
    "    plt.ylabel('regrets_variance')\n",
    "    plt.xlabel('t')\n",
    "    plt.legend(handles=[line_1])\n",
    "    fig.suptitle(\"regrets_variance over time\")\n",
    "    fig.savefig('test.jpg')\n",
    "    plt.show()\n",
    "    \n",
    "plot_regrets_variance(regret_variance)"
   ]
  },
  {
   "cell_type": "code",
   "execution_count": 21,
   "metadata": {
    "collapsed": false
   },
   "outputs": [
    {
     "ename": "NameError",
     "evalue": "name 'single_plot' is not defined",
     "output_type": "error",
     "traceback": [
      "\u001b[0;31m---------------------------------------------------------------------------\u001b[0m",
      "\u001b[0;31mNameError\u001b[0m                                 Traceback (most recent call last)",
      "\u001b[0;32m<ipython-input-21-eb90657abd84>\u001b[0m in \u001b[0;36m<module>\u001b[0;34m()\u001b[0m\n\u001b[1;32m     57\u001b[0m     \u001b[0mplt\u001b[0m\u001b[1;33m.\u001b[0m\u001b[0mshow\u001b[0m\u001b[1;33m(\u001b[0m\u001b[1;33m)\u001b[0m\u001b[1;33m\u001b[0m\u001b[0m\n\u001b[1;32m     58\u001b[0m \u001b[1;33m\u001b[0m\u001b[0m\n\u001b[0;32m---> 59\u001b[0;31m \u001b[0mplot_beta\u001b[0m\u001b[1;33m(\u001b[0m\u001b[1;33m)\u001b[0m\u001b[1;33m\u001b[0m\u001b[0m\n\u001b[0m",
      "\u001b[0;32m<ipython-input-21-eb90657abd84>\u001b[0m in \u001b[0;36mplot_beta\u001b[0;34m()\u001b[0m\n\u001b[1;32m     52\u001b[0m \u001b[1;33m\u001b[0m\u001b[0m\n\u001b[1;32m     53\u001b[0m     \u001b[1;31m#f.figure(num=None, figsize=(8, 6), dpi=80, facecolor='w', edgecolor='k')\u001b[0m\u001b[1;33m\u001b[0m\u001b[1;33m\u001b[0m\u001b[0m\n\u001b[0;32m---> 54\u001b[0;31m     \u001b[0mplot_all\u001b[0m\u001b[1;33m(\u001b[0m\u001b[0maxarr\u001b[0m\u001b[1;33m)\u001b[0m\u001b[1;33m\u001b[0m\u001b[0m\n\u001b[0m\u001b[1;32m     55\u001b[0m \u001b[1;33m\u001b[0m\u001b[0m\n\u001b[1;32m     56\u001b[0m     \u001b[1;31m#plt.legend(bbox_to_anchor = [1.05, 1.05],handles=posteriors_plot)\u001b[0m\u001b[1;33m\u001b[0m\u001b[1;33m\u001b[0m\u001b[0m\n",
      "\u001b[0;32m<ipython-input-21-eb90657abd84>\u001b[0m in \u001b[0;36mplot_all\u001b[0;34m(axarr)\u001b[0m\n\u001b[1;32m      7\u001b[0m     \u001b[1;32mfor\u001b[0m \u001b[0mi\u001b[0m \u001b[1;32min\u001b[0m \u001b[0mrange\u001b[0m\u001b[1;33m(\u001b[0m\u001b[0mplot_row\u001b[0m\u001b[1;33m)\u001b[0m\u001b[1;33m:\u001b[0m\u001b[1;33m\u001b[0m\u001b[0m\n\u001b[1;32m      8\u001b[0m         \u001b[1;32mfor\u001b[0m \u001b[0mj\u001b[0m \u001b[1;32min\u001b[0m \u001b[0mrange\u001b[0m\u001b[1;33m(\u001b[0m\u001b[0mplot_col\u001b[0m\u001b[1;33m)\u001b[0m\u001b[1;33m:\u001b[0m\u001b[1;33m\u001b[0m\u001b[0m\n\u001b[0;32m----> 9\u001b[0;31m             \u001b[0msingle_plot\u001b[0m\u001b[1;33m(\u001b[0m\u001b[0maxarr\u001b[0m\u001b[1;33m[\u001b[0m\u001b[0mi\u001b[0m\u001b[1;33m,\u001b[0m\u001b[0mj\u001b[0m\u001b[1;33m]\u001b[0m\u001b[1;33m,\u001b[0m \u001b[0mcount\u001b[0m\u001b[1;33m)\u001b[0m\u001b[1;33m\u001b[0m\u001b[0m\n\u001b[0m\u001b[1;32m     10\u001b[0m             \u001b[0mcount\u001b[0m\u001b[1;33m+=\u001b[0m\u001b[1;36m1\u001b[0m\u001b[1;33m\u001b[0m\u001b[0m\n\u001b[1;32m     11\u001b[0m \u001b[1;32mdef\u001b[0m \u001b[0mplot_beta\u001b[0m\u001b[1;33m(\u001b[0m\u001b[1;33m)\u001b[0m\u001b[1;33m:\u001b[0m\u001b[1;33m\u001b[0m\u001b[0m\n",
      "\u001b[0;31mNameError\u001b[0m: name 'single_plot' is not defined"
     ]
    },
    {
     "data": {
      "image/png": "[encoded data removed]",
      "text/plain": [
       "<matplotlib.figure.Figure at 0x1c71d8b6550>"
      ]
     },
     "metadata": {},
     "output_type": "display_data"
    }
   ],
   "source": [
    "def get_rv(i, k):\n",
    "    return beta(hyperparameters_records[i][k][0], hyperparameters_records[i][k][1])\n",
    "\n",
    "def plot_all(axarr):\n",
    "    #for ax in axarr:\n",
    "    count = 0\n",
    "    for i in range(plot_row):\n",
    "        for j in range(plot_col):\n",
    "            single_plot(axarr[i,j], count)\n",
    "            count+=1\n",
    "def plot_beta():\n",
    "    #x = np.linspace(0, 1.0, 100)\n",
    "    posteriors_plot = []\n",
    "\n",
    "    plt.close('all')\n",
    "\n",
    "    def single_plot(ax,j):\n",
    "\n",
    "        x = np.linspace(0, 1.0, 100)\n",
    "\n",
    "        vget_rv = np.vectorize(get_rv)\n",
    "        # Getting forzen random variables of the given arms\n",
    "\n",
    "        forzen_rvs = vget_rv(j, range(size))\n",
    "    #     print(rvs)\n",
    "    #    rvs_1 = beta(posteriors_records[i][:,0], posteriors_records[i][:,1])\n",
    "    #     print(posteriors_records[i][:,1].shape)\n",
    "    #     print(rvs_1)\n",
    "        ys = np.empty(size, dtype=np.ndarray)\n",
    "        means = np.empty(size,dtype=object)\n",
    "        pdfs = np.empty(size,dtype=object)\n",
    "\n",
    "        for i in range(size):\n",
    "            ys[i] = forzen_rvs[i].pdf(x)\n",
    "            means[i] = forzen_rvs[i].mean()\n",
    "            pdfs[i] = forzen_rvs [i].pdf(means[i])\n",
    "\n",
    "        global posteriors_plot\n",
    "        colors = [('b','b--'),('g','g--'),('r','r--'),('c','c--'),('m','m--'),('k','k--')]\n",
    "        # Maximum color index is 5\n",
    "        for i in range(size):\n",
    "            print(ys[i].shape)\n",
    "            print(x.shape)\n",
    "            p1, = ax.plot(x, ys[i], colors[i][0], label= 'p = %.2f' %(true_prob[i]))\n",
    "            posteriors_plot.append(p1)\n",
    "            ax.plot([means[i], means[i]], [0, pdfs[i]], colors[i][1])\n",
    "\n",
    "\n",
    "        ax.set_title(\"Round %d\" %(posterior_rounds[j]))\n",
    "\n",
    "    f, axarr = plt.subplots(plot_row,plot_col)\n",
    "\n",
    "    #f.figure(num=None, figsize=(8, 6), dpi=80, facecolor='w', edgecolor='k')\n",
    "    plot_all(axarr)\n",
    "\n",
    "    #plt.legend(bbox_to_anchor = [1.05, 1.05],handles=posteriors_plot)\n",
    "    plt.show()\n",
    "    \n",
    "plot_beta()"
   ]
  },
  {
   "cell_type": "code",
   "execution_count": 31,
   "metadata": {
    "collapsed": false
   },
   "outputs": [
    {
     "name": "stderr",
     "output_type": "stream",
     "text": [
      "C:\\Users\\lucas\\Anaconda3\\lib\\site-packages\\scipy\\stats\\_distn_infrastructure.py:876: RuntimeWarning: invalid value encountered in greater_equal\n",
      "  return (self.a <= x) & (x <= self.b)\n",
      "C:\\Users\\lucas\\Anaconda3\\lib\\site-packages\\scipy\\stats\\_distn_infrastructure.py:876: RuntimeWarning: invalid value encountered in less_equal\n",
      "  return (self.a <= x) & (x <= self.b)\n"
     ]
    },
    {
     "name": "stdout",
     "output_type": "stream",
     "text": [
      "[[ 0.81494864  0.001     ]]\n"
     ]
    },
    {
     "data": {
      "image/png": "[encoded data removed]",
      "text/plain": [
       "<matplotlib.figure.Figure at 0x2041ed3b5f8>"
      ]
     },
     "metadata": {},
     "output_type": "display_data"
    }
   ],
   "source": [
    "\n",
    "# Mean = 0, SD = 2.\n",
    "plt.plot(x_axis, norm.pdf(x_axis,0,2))\n",
    "import matplotlib.mlab as mlab\n",
    "def plot_gaussian():\n",
    "    x = np.linspace(-5.0, 5.0, 100)\n",
    "    posteriors_plot = []\n",
    "    plt.close('all')\n",
    "\n",
    "    def plot_all(axarr):\n",
    "        #for ax in axarr:\n",
    "        count = 0\n",
    "        for i in range(plot_row):\n",
    "            for j in range(plot_col):\n",
    "                single_plot(axarr[i,j], count)\n",
    "                count+=1\n",
    "            \n",
    "    def single_plot(ax,j):\n",
    "        #mu = hyperparameters_records[j][:,0]\n",
    "        #sigma = hyperparameters_records[j][:,1]\n",
    "        vget_rv = np.vectorize(get_rv)\n",
    "        # Getting forzen random variables of the given arms\n",
    "\n",
    "        forzen_rvs = vget_rv(j, range(size))\n",
    "    #     print(rvs)\n",
    "    #    rvs_1 = beta(posteriors_records[i][:,0], posteriors_records[i][:,1])\n",
    "    #     print(posteriors_records[i][:,1].shape)\n",
    "    #     print(rvs_1)\n",
    "        ys = np.empty(size, dtype=np.ndarray)\n",
    "        means = np.empty(size,dtype=object)\n",
    "        pdfs = np.empty(size,dtype=object)\n",
    "\n",
    "        for i in range(size):\n",
    "            ys[i] = forzen_rvs[i].pdf(x)\n",
    "            means[i] = forzen_rvs[i].mean()\n",
    "            pdfs[i] = forzen_rvs [i].pdf(means[i])\n",
    "\n",
    "\n",
    "        colors = [('b','b--'),('g','g--'),('r','r--'),('c','c--'),('m','m--'),('k','k--')]\n",
    "        # Maximum color index is 5\n",
    "        for i in range(size):\n",
    "            #print(i)\n",
    "            #print(ys[i])\n",
    "            p1, = ax.plot(x, ys[i], colors[i][0], label= 'p = %.2f' %(true_prob[i][0]))\n",
    "            #print(p1)\n",
    "            if j == 1:\n",
    "                # record legends only once\n",
    "                posteriors_plot.append(p1)\n",
    "            ax.plot([means[i], means[i]], [0, pdfs[i]], colors[i][1])\n",
    "\n",
    "\n",
    "        ax.set_title(\"Round %d\" %(posterior_rounds[j]))\n",
    "\n",
    "    f, axarr = plt.subplots(plot_row,plot_col)\n",
    "    plot_all(axarr)\n",
    "    #single_plot(1)\n",
    "    print(hyperparameters_records[5])\n",
    "    #f.figure(num=None, figsize=(8, 6), dpi=80, facecolor='w', edgecolor='k')\n",
    "    \n",
    "\n",
    "    plt.legend(bbox_to_anchor = [1.05, 1.05],handles=posteriors_plot)\n",
    "    plt.show()\n",
    "    \n",
    "plot_gaussian()"
   ]
  },
  {
   "cell_type": "code",
   "execution_count": 9,
   "metadata": {
    "collapsed": false
   },
   "outputs": [
    {
     "name": "stdout",
     "output_type": "stream",
     "text": [
      "0.807478042 0.00015028554\n",
      "[ 0.  0.  0. ...,  0.  0.  0.]\n"
     ]
    },
    {
     "data": {
      "text/plain": [
       "[<matplotlib.lines.Line2D at 0x2021fcc1c18>]"
      ]
     },
     "execution_count": 9,
     "metadata": {},
     "output_type": "execute_result"
    },
    {
     "data": {
      "image/png": "[encoded data removed]",
      "text/plain": [
       "<matplotlib.figure.Figure at 0x2021fd7c9e8>"
      ]
     },
     "metadata": {},
     "output_type": "display_data"
    }
   ],
   "source": [
    "x = np.linspace(0.7, 0.9, 1000000)\n",
    "param = np.array([[  8.07478042e-01,   1.50285540e-04],\n",
    " [  2.20702734e-01,   1.11109877e-01],\n",
    " [ -3.43966521e-01,   2.72719835e-01]])\n",
    "print(param[0,0], param[0,1])\n",
    "ys = norm.pdf(x, 0.81494864,  0.001 )\n",
    "\n",
    "print(ys)\n",
    "plt.plot(x,ys)"
   ]
  }
 ],
 "metadata": {
  "anaconda-cloud": {},
  "kernelspec": {
   "display_name": "Python [conda root]",
   "language": "python",
   "name": "conda-root-py"
  },
  "language_info": {
   "codemirror_mode": {
    "name": "ipython",
    "version": 3
   },
   "file_extension": ".py",
   "mimetype": "text/x-python",
   "name": "python",
   "nbconvert_exporter": "python",
   "pygments_lexer": "ipython3",
   "version": "3.5.2"
  }
 },
 "nbformat": 4,
 "nbformat_minor": 1
}
