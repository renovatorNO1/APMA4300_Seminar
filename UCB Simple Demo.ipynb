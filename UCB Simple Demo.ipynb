{
 "cells": [
  {
   "cell_type": "code",
   "execution_count": 4,
   "metadata": {
    "collapsed": true
   },
   "outputs": [],
   "source": [
    "# Implementing UCB\n",
    "\n",
    "import math\n",
    "import numpy as np\n"
   ]
  },
  {
   "cell_type": "code",
   "execution_count": 18,
   "metadata": {
    "collapsed": false
   },
   "outputs": [
    {
     "name": "stdout",
     "output_type": "stream",
     "text": [
      "21.639556568820566\n",
      "max confidence interval is 1.0 \n",
      "arm 0 average reward is 0.0909090909091\n",
      "arm 1 average reward is 0.5\n",
      "arm 2 average reward is 0.318181818182\n",
      "confidence interval is 0.5 \n",
      "75.46787138632314\n",
      "max confidence interval is 0.5 \n",
      "arm 0 average reward is 0.118421052632\n",
      "arm 1 average reward is 0.526315789474\n",
      "arm 2 average reward is 0.302631578947\n",
      "confidence interval is 0.25 \n",
      "257.51006598945605\n",
      "max confidence interval is 0.25 \n",
      "arm 0 average reward is 0.151162790698\n",
      "true\n",
      "arm 1 average reward is 0.589147286822\n",
      "arm 2 average reward is 0.383720930233\n",
      "confidence interval is 0.125 \n",
      "852.5945857344782\n",
      "max confidence interval is 0.125 \n",
      "arm 1 average reward is 0.618991793669\n",
      "arm 2 average reward is 0.404454865182\n",
      "true\n",
      "confidence interval is 0.0625 \n",
      "2700.595630044529\n",
      "max confidence interval is 0.0625 \n",
      "arm 1 average reward is 0.604103172493\n",
      "confidence interval is 0.03125 \n",
      "7963.25166860458\n",
      "max confidence interval is 0.03125 \n",
      "arm 1 average reward is 0.604103172493\n",
      "confidence interval is 0.015625 \n",
      "20496.483268124175\n",
      "max confidence interval is 0.015625 \n",
      "arm 1 average reward is 0.604103172493\n",
      "confidence interval is 0.0078125 \n",
      "[1]\n"
     ]
    }
   ],
   "source": [
    "#Demo Pre-conditions\n",
    "\n",
    "rounds = 50000\n",
    "#k = 3 # number of arms\n",
    "true_prob = (0.2, 0.6, 0.4)\n",
    "active_arms = [0, 1, 2]\n",
    "k = len(true_prob)\n",
    "\n",
    "#Number of times the slot machine is played\n",
    "N = np.zeros(k)\n",
    "\n",
    "# Sum of rewards of the slot machine up till now\n",
    "R = np.zeros(k)\n",
    "\n",
    "# Average rewards of each slot machine up till now\n",
    "r = np.zeros(k)\n",
    "\n",
    "# Action Probabilities\n",
    "p = np.zeros(k)\n",
    "\n",
    "# cumulative rewards\n",
    "cumulative_rewards = np.zeros(rounds)\n",
    "\n",
    "# played_arm\n",
    "arm_played = np.empty(rounds)\n",
    "# rewards per round\n",
    "rewards = np.zeros(rounds)\n",
    "rewards_per_round = np.zeros((k,rounds), dtype=float)\n",
    "\n",
    "\n",
    "# best arm per round\n",
    "#global best_arms\n",
    "best_arms = np.zeros(rounds, dtype=int)\n",
    "\n",
    "# Initiate regrets\n",
    "regret_per_round = np.zeros(rounds) \n",
    "cumulated_regrets = np.zeros(rounds)\n",
    "\n",
    "\n",
    "\n",
    "#This is for plotting purpose\n",
    "line1 = list()\n",
    "line2 = list()\n",
    "line3 = list()\n",
    "\n",
    "\n",
    "def apply_action(action):\n",
    "    result = np.random.choice(np.arange(2), 1, p=[1-true_prob[action], true_prob[action] ])\n",
    "    return result\n",
    "\n",
    "# Get the expected reward of the chosen arm\n",
    "def get_expected_reward(chosen, t): \n",
    "    # this obtains the empirical expected rewards\n",
    "    # sum the rewards up to round t-1, including round 0. t represents the current round\n",
    "    if t:\n",
    "        return np.sum(rewards_per_round[chosen][:t])/t\n",
    "    return 0\n",
    "\n",
    "def record_rewards(t, chosen_arm, reward):\n",
    "    # update rewards and rewards_per_round\n",
    "    rewards[t] = reward\n",
    "    N[chosen_arm] += 1\n",
    "    R[chosen_arm] += reward\n",
    "    #print(reward)\n",
    "    rewards_per_round[chosen_arm, t] = reward\n",
    "    \n",
    "    # register average rewards\n",
    "    r[chosen_arm] = R[chosen_arm] / N[chosen_arm]\n",
    "    \n",
    "    \n",
    "    #update cumulative rewards\n",
    "    if t > 0:\n",
    "        cumulative_rewards[t] = reward + cumulative_rewards[t-1] \n",
    "    else:\n",
    "        cumulative_rewards[t] = reward\n",
    "        \n",
    "        \n",
    "# Register the regret\n",
    "def register_regret(chosen,t):\n",
    "    # Calculate regrets\n",
    "\n",
    "    regret =  max(true_prob) - get_expected_reward(chosen,t)\n",
    "        \n",
    "    regret_per_round[t] = regret\n",
    "\n",
    "    if t > 0:\n",
    "        cumulated_regrets[t] = regret + cumulated_regrets[t-1] \n",
    "    else:\n",
    "        cumulated_regrets[t] = regret\n",
    "\n",
    "        \n",
    "# # Play a couple times\n",
    "# for i in range(10):\n",
    "    \n",
    "#     for j in range(k):\n",
    "#         N[j] += 1\n",
    "#         R[j] += apply_action(j)\n",
    "#         r[j] = R[j] / N[j]\n",
    "        \n",
    "    \n",
    "#print(R) \n",
    "\n",
    "# for round_index in range(rounds):\n",
    "        \n",
    "#     UCB_MAX = np.zeros(k)\n",
    "#     for j in range(k):\n",
    "#         r[j] = R[j] / N[j]\n",
    "        \n",
    "#         t = math.log(round_index+1) / N[j]\n",
    "#         confidence = math.sqrt((3./2) *t)\n",
    "#         UCB_MAX[j] = r[j] + confidence\n",
    "        \n",
    "#     # Selecting the best arm \n",
    "#     best_arm = np.argmax(UCB_MAX)\n",
    "#     #print(best_arm)\n",
    "#     reward = apply_action(best_arm)\n",
    "#     #print(reward)\n",
    "#     record_rewards(round_index, best_arm, reward)\n",
    "        \n",
    "#     best_arms[round_index] = best_arm\n",
    "#     register_regret(best_arm, round_index)\n",
    "confidence_interval = 1.0\n",
    "time = 0\n",
    "for round_index in range(int(math.log2(rounds/math.exp(1)) / 2.0)):\n",
    "    \n",
    "    n_m = 2 * math.log(rounds *confidence_interval**2) / (confidence_interval**2)\n",
    "    print(n_m)\n",
    "    if (len(active_arms) > 1):\n",
    "        for arm in active_arms:\n",
    "            while N[arm] < n_m:\n",
    "                arm_played[time] = arm\n",
    "                reward = apply_action(arm)\n",
    "                record_rewards(time, arm, reward)\n",
    "                register_regret(arm, time)\n",
    "                time += 1\n",
    "                \n",
    "    else:\n",
    "        arm = active_arms[0]\n",
    "        while time < rounds:\n",
    "            arm_played[time] = arm\n",
    "            reward = apply_action(arm)\n",
    "            record_rewards(time, arm, reward)\n",
    "            register_regret(arm, time)\n",
    "            time += 1\n",
    "    # arm elimination\n",
    "    active_arms_copy = active_arms.copy()\n",
    "\n",
    "    max_confidence = max(r) - math.sqrt(math.log(rounds * confidence_interval ** 2 ) / (2.0* n_m))\n",
    "    print(\"max confidence interval is %s \" % (confidence_interval)) \n",
    "    for arm in active_arms_copy:\n",
    "        print(\"arm %d average reward is %s\" % (arm, r[arm]))\n",
    "        if r[arm] + math.sqrt(math.log(rounds * confidence_interval ** 2) / (2.0 * n_m)) < max_confidence:\n",
    "            print(\"true\")\n",
    "            active_arms.remove(arm)\n",
    "    confidence_interval = confidence_interval / 2.0\n",
    "    print(\"confidence interval is %s \" %(confidence_interval))\n",
    "    \n",
    "        \n",
    "            \n",
    "\n",
    "            \n",
    "\n",
    "    \n",
    "    \n",
    "#print(best_arms)      \n",
    "#print(regret_per_round)\n",
    "print(active_arms)"
   ]
  },
  {
   "cell_type": "code",
   "execution_count": 19,
   "metadata": {
    "collapsed": false
   },
   "outputs": [
    {
     "data": {
      "image/png": "[encoded data removed]",
      "text/plain": [
       "<matplotlib.figure.Figure at 0x2210dc8b630>"
      ]
     },
     "metadata": {},
     "output_type": "display_data"
    }
   ],
   "source": [
    "import matplotlib as mpl\n",
    "import matplotlib.pyplot as plt\n",
    "%matplotlib inline\n",
    "\n",
    "mpl.rcParams['savefig.dpi'] = 80 # size parameter for inline\n",
    "mpl.rcParams['figure.dpi'] = 100 # size parameter for notebook\n",
    "x_axis = range(rounds)\n",
    "\n",
    "def plot_arms(best_arms):\n",
    "    fig = plt.figure()\n",
    "    line_1, = plt.plot(x_axis, best_arms, label='index')\n",
    "    plt.ylabel('best action arm index')\n",
    "    plt.xlabel('t')\n",
    "    plt.legend(loc=\"lower right\",handles=[line_1])\n",
    "    fig.suptitle(\"played arm per round\")\n",
    "    fig.savefig('test.jpg')\n",
    "    plt.show()\n",
    "    \n",
    "#print(best_arms)\n",
    "plot_arms(arm_played)"
   ]
  },
  {
   "cell_type": "code",
   "execution_count": 20,
   "metadata": {
    "collapsed": false
   },
   "outputs": [
    {
     "name": "stderr",
     "output_type": "stream",
     "text": [
      "C:\\Users\\lucas\\Anaconda3\\lib\\site-packages\\matplotlib\\axes\\_axes.py:532: UserWarning: The handle <matplotlib.lines.Line2D object at 0x000002210EF5D048> has a label of '_line0' which cannot be automatically added to the legend.\n",
      "  'legend.'.format(handle, label))\n"
     ]
    },
    {
     "data": {
      "image/png": "[encoded data removed]",
      "text/plain": [
       "<matplotlib.figure.Figure at 0x2210dd8b9b0>"
      ]
     },
     "metadata": {},
     "output_type": "display_data"
    }
   ],
   "source": [
    "def plot_rewards(rewards):\n",
    "    fig = plt.figure()\n",
    "    line_1, = plt.plot(x_axis[:10000], rewards[:10000], 'bo')\n",
    "    #print(rewards)\n",
    "    plt.ylabel('reward per round')\n",
    "    plt.xlabel('t')\n",
    "    plt.legend(handles=[line_1])\n",
    "    fig.suptitle(\"Rewards per round\")\n",
    "    fig.savefig('test.jpg')\n",
    "    plt.show()\n",
    "    \n",
    "plot_rewards(rewards)\n"
   ]
  },
  {
   "cell_type": "code",
   "execution_count": 21,
   "metadata": {
    "collapsed": false
   },
   "outputs": [
    {
     "name": "stderr",
     "output_type": "stream",
     "text": [
      "C:\\Users\\lucas\\Anaconda3\\lib\\site-packages\\matplotlib\\axes\\_axes.py:532: UserWarning: The handle <matplotlib.lines.Line2D object at 0x000002210DDCB630> has a label of '_line0' which cannot be automatically added to the legend.\n",
      "  'legend.'.format(handle, label))\n"
     ]
    },
    {
     "data": {
      "image/png": "[encoded data removed]",
      "text/plain": [
       "<matplotlib.figure.Figure at 0x2210dd3a278>"
      ]
     },
     "metadata": {},
     "output_type": "display_data"
    }
   ],
   "source": [
    "def plot_cumulative_rewards(cumulative_rewards):\n",
    "    fig = plt.figure()\n",
    "    line_1, = plt.plot(x_axis, cumulative_rewards, 'bo')\n",
    "\n",
    "    plt.ylabel('cumulative_reward')\n",
    "    plt.xlabel('t')\n",
    "    plt.legend(handles=[line_1])\n",
    "    fig.suptitle(\"cumulative_rewards per round\")\n",
    "    fig.savefig('test.jpg')\n",
    "    plt.show()\n",
    "    \n",
    "plot_cumulative_rewards(cumulative_rewards)"
   ]
  },
  {
   "cell_type": "code",
   "execution_count": 22,
   "metadata": {
    "collapsed": false
   },
   "outputs": [
    {
     "name": "stderr",
     "output_type": "stream",
     "text": [
      "C:\\Users\\lucas\\Anaconda3\\lib\\site-packages\\matplotlib\\axes\\_axes.py:532: UserWarning: The handle <matplotlib.lines.Line2D object at 0x000002210DD0C2E8> has a label of '_line0' which cannot be automatically added to the legend.\n",
      "  'legend.'.format(handle, label))\n"
     ]
    },
    {
     "data": {
      "image/png": "[encoded data removed]",
      "text/plain": [
       "<matplotlib.figure.Figure at 0x2210ef28a20>"
      ]
     },
     "metadata": {},
     "output_type": "display_data"
    }
   ],
   "source": [
    "def plot_cumulated_regrets(cumulated_regrets):\n",
    "    fig = plt.figure()\n",
    "    line_1, = plt.plot(x_axis,cumulated_regrets)\n",
    "\n",
    "    plt.ylabel('cumulated_regret')\n",
    "    plt.xlabel('t')\n",
    "    plt.legend(handles=[line_1])\n",
    "    fig.suptitle(\"cumulated_regrets per round\")\n",
    "    fig.savefig('test.jpg')\n",
    "    plt.show()\n",
    "    \n",
    "plot_cumulated_regrets(cumulated_regrets)"
   ]
  },
  {
   "cell_type": "code",
   "execution_count": 14,
   "metadata": {
    "collapsed": false
   },
   "outputs": [
    {
     "name": "stdout",
     "output_type": "stream",
     "text": [
      "[0, 1, 2]\n",
      "(3, 1000)\n",
      "[0, 1, 2]\n",
      "(3, 2000)\n",
      "[0, 1, 2]\n",
      "(3, 4000)\n",
      "[0, 1, 2]\n",
      "(3, 8000)\n",
      "[0, 1, 2]\n",
      "(3, 16000)\n",
      "[0, 1, 2]\n",
      "(3, 32000)\n",
      "[  0.00000000e+00   0.00000000e+00   4.75669054e-04   1.84819875e-04\n",
      "   1.31376229e-04   6.22937574e-05]\n"
     ]
    }
   ],
   "source": [
    "# Get variance\n",
    "\n",
    "def record_rewards(t, chosen_arm, reward):\n",
    "    # update rewards and rewards_per_round\n",
    "    rewards[t] = reward\n",
    "    N[chosen_arm] += 1\n",
    "    R[chosen_arm] += reward\n",
    "    #print(reward)\n",
    "    rewards_per_round[chosen_arm, t] = reward\n",
    "    \n",
    "    # register average rewards\n",
    "    r[chosen_arm] = R[chosen_arm] / N[chosen_arm]\n",
    "    \n",
    "    \n",
    "    #update cumulative rewards\n",
    "    if t > 0:\n",
    "        cumulative_rewards[t] = reward + cumulative_rewards[t-1] \n",
    "    else:\n",
    "        cumulative_rewards[t] = reward\n",
    "        \n",
    "trials = 10\n",
    "trial_rounds = [1000 * 2 ** i for i in range(6)]\n",
    "regret_variance = np.zeros(len(trial_rounds))\n",
    "true_prob = (0.2, 0.6, 0.4)\n",
    "\n",
    "for (index, rounds) in enumerate(trial_rounds):\n",
    "    active_arms = [0, 1, 2]\n",
    "    # cumulative rewards\n",
    "    cumulative_rewards = np.zeros(rounds)\n",
    "    k = len(active_arms)\n",
    "    print(active_arms)\n",
    "    # played_arm\n",
    "    arm_played = np.empty(rounds)\n",
    "    # rewards per round\n",
    "    rewards = np.zeros(rounds)\n",
    "    rewards_per_round = np.zeros((k,rounds), dtype=float)\n",
    "    print(rewards_per_round.shape)\n",
    "    # Initiate regrets\n",
    "    regret_per_round = np.zeros(rounds) \n",
    "    cumulated_regrets = np.zeros(rounds)\n",
    "\n",
    "    # Initialize record for best_arm\n",
    "    best_arm = np.zeros(rounds,dtype = int)\n",
    "      \n",
    "    \n",
    "    confidence_interval = 1.0\n",
    "    time = 0\n",
    "    for round_index in range(int(math.log2(rounds/math.exp(1)) / 2.0)):\n",
    "\n",
    "        n_m = 2 * math.log(rounds *confidence_interval**2) / (confidence_interval**2)\n",
    "        #print(n_m)\n",
    "        if (len(active_arms) > 1):\n",
    "            for arm in active_arms:\n",
    "                while N[arm] < n_m:\n",
    "                    arm_played[time] = arm\n",
    "                    reward = apply_action(arm)\n",
    "                    record_rewards(time, arm, reward)\n",
    "                    register_regret(arm, time)\n",
    "                    time += 1\n",
    "\n",
    "        else:\n",
    "            arm = active_arms[0]\n",
    "            while time < rounds:\n",
    "                arm_played[time] = arm\n",
    "                reward = apply_action(arm)\n",
    "                record_rewards(time, arm, reward)\n",
    "                register_regret(arm, time)\n",
    "                time += 1\n",
    "        # arm elimination\n",
    "        active_arms_copy = active_arms.copy()\n",
    "\n",
    "        max_confidence = max(r) - math.sqrt(math.log(rounds * confidence_interval ** 2 ) / (2.0* n_m))\n",
    "        #print(\"max confidence interval is %s \" % (confidence_interval)) \n",
    "        for arm in active_arms_copy:\n",
    "            #print(\"arm %d average reward is %s\" % (arm, r[arm]))\n",
    "            if r[arm] + math.sqrt(math.log(rounds * confidence_interval ** 2) / (2.0 * n_m)) < max_confidence:\n",
    "                #print(\"true\")\n",
    "                active_arms.remove(arm)\n",
    "        confidence_interval = confidence_interval / 2.0\n",
    "        #print(\"confidence interval is %s \" %(confidence_interval))\n",
    "    regret_variance[index] = np.var(regret_per_round)\n",
    "\n",
    "print(regret_variance)"
   ]
  },
  {
   "cell_type": "code",
   "execution_count": 15,
   "metadata": {
    "collapsed": false
   },
   "outputs": [
    {
     "name": "stderr",
     "output_type": "stream",
     "text": [
      "C:\\Users\\lucas\\Anaconda3\\lib\\site-packages\\matplotlib\\axes\\_axes.py:532: UserWarning: The handle <matplotlib.lines.Line2D object at 0x000002210DCE8208> has a label of '_line0' which cannot be automatically added to the legend.\n",
      "  'legend.'.format(handle, label))\n"
     ]
    },
    {
     "data": {
      "image/png": "[encoded data removed]",
      "text/plain": [
       "<matplotlib.figure.Figure at 0x2210d702e80>"
      ]
     },
     "metadata": {},
     "output_type": "display_data"
    }
   ],
   "source": [
    "import matplotlib as mpl\n",
    "import matplotlib.pyplot as plt\n",
    "%matplotlib inline\n",
    "def plot_regrets_variance(regrets_variance):\n",
    "    fig = plt.figure()\n",
    "    x_axis = trial_rounds\n",
    "    line_1, = plt.plot(x_axis,regrets_variance)\n",
    "\n",
    "    plt.ylabel('regrets_variance')\n",
    "    plt.xlabel('t')\n",
    "    plt.legend(handles=[line_1])\n",
    "    fig.suptitle(\"regrets_variance over time\")\n",
    "    fig.savefig('test.jpg')\n",
    "    plt.show()\n",
    "    \n",
    "plot_regrets_variance(regret_variance)"
   ]
  }
 ],
 "metadata": {
  "anaconda-cloud": {},
  "kernelspec": {
   "display_name": "Python [conda root]",
   "language": "python",
   "name": "conda-root-py"
  },
  "language_info": {
   "codemirror_mode": {
    "name": "ipython",
    "version": 3
   },
   "file_extension": ".py",
   "mimetype": "text/x-python",
   "name": "python",
   "nbconvert_exporter": "python",
   "pygments_lexer": "ipython3",
   "version": "3.5.2"
  }
 },
 "nbformat": 4,
 "nbformat_minor": 1
}
